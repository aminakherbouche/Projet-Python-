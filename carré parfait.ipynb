a=int(input("donner la valeur de a"))
print("a=",a)
b=int(input("donner la valeur de b"))
print("b=",b)
list=[]
if a<=b:
    for i in range (a,b+1):
        list=list+[i]
    
else:
    for i in range (b,a+1):
        list=list+[i]
        break
print("la liste est:", list)
