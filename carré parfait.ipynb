{
 "cells": [
  {
   "cell_type": "code",
   "execution_count": null,
   "metadata": {},
   "outputs": [],
   "source": [
    "a=int(input(\"donner la valeur de a\"))\n",
    "print(\"a=\",a)\n",
    "b=int(input(\"donner la valeur de b\"))\n",
    "print(\"b=\",b)\n",
    "list=[]\n",
    "if a<=b:\n",
    "    for i in range (a,b+1):\n",
    "        list=list+[i]\n",
    "    \n",
    "else:\n",
    "    for i in range (b,a+1):\n",
    "        list=list+[i]\n",
    "        break\n",
    "print(\"la liste est:\", list)"
   ]
  }
 ],
 "metadata": {
  "kernelspec": {
   "display_name": "Python 3",
   "language": "python",
   "name": "python3"
  },
  "language_info": {
   "codemirror_mode": {
    "name": "ipython",
    "version": 3
   },
   "file_extension": ".py",
   "mimetype": "text/x-python",
   "name": "python",
   "nbconvert_exporter": "python",
   "pygments_lexer": "ipython3",
   "version": "3.5.2"
  }
 },
 "nbformat": 4,
 "nbformat_minor": 2
}
