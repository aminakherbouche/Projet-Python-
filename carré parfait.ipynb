{
 "cells": [
  {
   "cell_type": "code",
   "execution_count": 12,
   "metadata": {},
   "outputs": [],
   "source": [
    "def com(a,b):\n",
    "    l=[];p=[];\n",
    "    n=0;\n",
    "    import math;\n",
    "    for i in range(a,b+1):\n",
    "        l.append(i);\n",
    "    #print(l);\n",
    "    from itertools import combinations\n",
    "    for j in range(1,b-a+2):\n",
    "        for i in combinations(l,j):\n",
    "            prod=1;\n",
    "            p=i;\n",
    "            for k in range(0,len(p)):\n",
    "                prod=prod*p[k];\n",
    "            #print(\"le produit est: %d \",prod);\n",
    "            arrondi=math.floor(math.sqrt(prod));\n",
    "            if math.sqrt(prod)-arrondi==0 :\n",
    "                    n=n+1;\n",
    "                    #print(\"carree parfait\");\n",
    "            #print(i);\n",
    "    print(\"le nombre de sous-ensembles dont le produit des elements est un carré parfait est egale à :\",n);\n",
    "    return n;"
   ]
  },
  {
   "cell_type": "code",
   "execution_count": 13,
   "metadata": {},
   "outputs": [
    {
     "name": "stdout",
     "output_type": "stream",
     "text": [
      "le nombre de sous-ensembles dont le produit des elements est un carré parfait est egale à : 3\n"
     ]
    },
    {
     "data": {
      "text/plain": [
       "3"
      ]
     },
     "execution_count": 13,
     "metadata": {},
     "output_type": "execute_result"
    }
   ],
   "source": [
    "com(5,10)"
   ]
  },
  {
   "cell_type": "code",
   "execution_count": 14,
   "metadata": {},
   "outputs": [
    {
     "name": "stdout",
     "output_type": "stream",
     "text": [
      "le nombre de sous-ensembles dont le produit des elements est un carré parfait est egale à : 15\n"
     ]
    },
    {
     "data": {
      "text/plain": [
       "15"
      ]
     },
     "execution_count": 14,
     "metadata": {},
     "output_type": "execute_result"
    }
   ],
   "source": [
    "com(40,55)"
   ]
  },
  {
   "cell_type": "code",
   "execution_count": null,
   "metadata": {},
   "outputs": [],
   "source": []
  }
 ],
 "metadata": {
  "kernelspec": {
   "display_name": "Python 3",
   "language": "python",
   "name": "python3"
  },
  "language_info": {
   "codemirror_mode": {
    "name": "ipython",
    "version": 3
   },
   "file_extension": ".py",
   "mimetype": "text/x-python",
   "name": "python",
   "nbconvert_exporter": "python",
   "pygments_lexer": "ipython3",
   "version": "3.5.2"
  }
 },
 "nbformat": 4,
 "nbformat_minor": 2
}
